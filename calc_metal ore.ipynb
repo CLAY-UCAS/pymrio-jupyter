{
 "cells": [
  {
   "cell_type": "code",
   "execution_count": 1,
   "metadata": {},
   "outputs": [
    {
     "name": "stderr",
     "output_type": "stream",
     "text": [
      "D:\\ana\\lib\\site-packages\\pandas\\core\\computation\\expressions.py:20: UserWarning: Pandas requires version '2.7.3' or newer of 'numexpr' (version '2.7.1' currently installed).\n",
      "  from pandas.core.computation.check import NUMEXPR_INSTALLED\n"
     ]
    }
   ],
   "source": [
    "import pymrio\n",
    "import pandas as pd\n",
    "import numpy as np"
   ]
  },
  {
   "cell_type": "code",
   "execution_count": 2,
   "metadata": {},
   "outputs": [],
   "source": [
    "exio3 = pymrio.parse_exiobase3(path=\"F:/z-paper_read/文献PDF/IOT_2022_ixi.zip\")"
   ]
  },
  {
   "cell_type": "code",
   "execution_count": 3,
   "metadata": {},
   "outputs": [
    {
     "data": {
      "text/plain": [
       "<pymrio.core.mriosystem.IOSystem at 0x2a8ba68ccd0>"
      ]
     },
     "execution_count": 3,
     "metadata": {},
     "output_type": "execute_result"
    }
   ],
   "source": [
    "exio3.calc_all()"
   ]
  },
  {
   "cell_type": "code",
   "execution_count": 13,
   "metadata": {},
   "outputs": [
    {
     "name": "stdout",
     "output_type": "stream",
     "text": [
      "region  sector                                             \n",
      "AT      Cultivation of paddy rice                              0.000000\n",
      "        Cultivation of wheat                                   0.004083\n",
      "        Cultivation of cereal grains nec                       0.003089\n",
      "        Cultivation of vegetables, fruit, nuts                 0.002676\n",
      "        Cultivation of oil seeds                               0.002265\n",
      "                                                                 ...   \n",
      "WM      Activities of membership organisation n.e.c. (91)      0.003558\n",
      "        Recreational, cultural and sporting activities (92)    0.003978\n",
      "        Other service activities (93)                          0.006155\n",
      "        Private households with employed persons (95)          0.004019\n",
      "        Extra-territorial organizations and bodies             0.000000\n",
      "Name: Unused Domestic Extraction - Metal Ores - Copper ores, Length: 7987, dtype: float64\n"
     ]
    }
   ],
   "source": [
    "x_mu=exio3.satellite.M.loc[\"Unused Domestic Extraction - Metal Ores - Copper ores\"]\n",
    "print(x_mu)"
   ]
  },
  {
   "cell_type": "code",
   "execution_count": 14,
   "metadata": {},
   "outputs": [
    {
     "name": "stdout",
     "output_type": "stream",
     "text": [
      "region  sector                                             \n",
      "AT      Cultivation of paddy rice                              0.000000\n",
      "        Cultivation of wheat                                   0.005546\n",
      "        Cultivation of cereal grains nec                       0.003586\n",
      "        Cultivation of vegetables, fruit, nuts                 0.003071\n",
      "        Cultivation of oil seeds                               0.003537\n",
      "                                                                 ...   \n",
      "WM      Activities of membership organisation n.e.c. (91)      0.007393\n",
      "        Recreational, cultural and sporting activities (92)    0.007352\n",
      "        Other service activities (93)                          0.011149\n",
      "        Private households with employed persons (95)          0.009673\n",
      "        Extra-territorial organizations and bodies             0.000000\n",
      "Name: Domestic Extraction Used - Metal Ores - Copper ores, Length: 7987, dtype: float64\n"
     ]
    }
   ],
   "source": [
    "x_md=exio3.satellite.M.loc['Domestic Extraction Used - Metal Ores - Copper ores']\n",
    "print(x_md)"
   ]
  },
  {
   "cell_type": "code",
   "execution_count": 15,
   "metadata": {},
   "outputs": [],
   "source": [
    "L=exio3.L"
   ]
  },
  {
   "cell_type": "code",
   "execution_count": 16,
   "metadata": {},
   "outputs": [],
   "source": [
    "Y=exio3.Y"
   ]
  },
  {
   "cell_type": "code",
   "execution_count": 17,
   "metadata": {},
   "outputs": [],
   "source": [
    "x_D_cba=x_md@L@Y"
   ]
  },
  {
   "cell_type": "code",
   "execution_count": 18,
   "metadata": {},
   "outputs": [
    {
     "name": "stdout",
     "output_type": "stream",
     "text": [
      "region  category                                                                            \n",
      "AT      Final consumption expenditure by households                                               5335.334288\n",
      "        Final consumption expenditure by non-profit organisations serving households (NPISH)       116.505381\n",
      "        Final consumption expenditure by government                                                904.497148\n",
      "        Gross fixed capital formation                                                             7129.994055\n",
      "        Changes in inventories                                                                     252.949595\n",
      "                                                                                                    ...      \n",
      "WM      Final consumption expenditure by government                                              14087.465306\n",
      "        Gross fixed capital formation                                                           132618.182606\n",
      "        Changes in inventories                                                                       0.000000\n",
      "        Changes in valuables                                                                         0.000000\n",
      "        Exports: Total (fob)                                                                         0.000000\n",
      "Name: Domestic Extraction Used - Metal Ores - Copper ores, Length: 343, dtype: float64\n"
     ]
    }
   ],
   "source": [
    "print(x_D_cba)"
   ]
  },
  {
   "cell_type": "code",
   "execution_count": 24,
   "metadata": {},
   "outputs": [
    {
     "name": "stdout",
     "output_type": "stream",
     "text": [
      "Domestic Extraction Used - Metal Ores - Bauxite and aluminium ores\n",
      "Domestic Extraction Used - Metal Ores - Copper ores\n",
      "Domestic Extraction Used - Metal Ores - Gold ores\n",
      "Domestic Extraction Used - Metal Ores - Iron ores\n",
      "Domestic Extraction Used - Metal Ores - Lead ores\n",
      "Domestic Extraction Used - Metal Ores - Nickel ores\n",
      "Domestic Extraction Used - Metal Ores - Other non-ferrous metal ores\n",
      "Domestic Extraction Used - Metal Ores - PGM ores\n",
      "Domestic Extraction Used - Metal Ores - Silver ores\n",
      "Domestic Extraction Used - Metal Ores - Tin ores\n",
      "Domestic Extraction Used - Metal Ores - Uranium and thorium ores\n",
      "Domestic Extraction Used - Metal Ores - Zinc ores\n"
     ]
    }
   ],
   "source": [
    " item=['Domestic Extraction Used - Metal Ores - Bauxite and aluminium ores',\n",
    " 'Domestic Extraction Used - Metal Ores - Copper ores',\n",
    " 'Domestic Extraction Used - Metal Ores - Gold ores',\n",
    " 'Domestic Extraction Used - Metal Ores - Iron ores',\n",
    " 'Domestic Extraction Used - Metal Ores - Lead ores',\n",
    " 'Domestic Extraction Used - Metal Ores - Nickel ores',\n",
    " 'Domestic Extraction Used - Metal Ores - Other non-ferrous metal ores',\n",
    " 'Domestic Extraction Used - Metal Ores - PGM ores',\n",
    " 'Domestic Extraction Used - Metal Ores - Silver ores',\n",
    " 'Domestic Extraction Used - Metal Ores - Tin ores',\n",
    " 'Domestic Extraction Used - Metal Ores - Uranium and thorium ores',\n",
    " 'Domestic Extraction Used - Metal Ores - Zinc ores']\n"
   ]
  },
  {
   "cell_type": "code",
   "execution_count": 29,
   "metadata": {},
   "outputs": [],
   "source": [
    "item_unused=[ 'Unused Domestic Extraction - Metal Ores - Bauxite and aluminium ores',\n",
    " 'Unused Domestic Extraction - Metal Ores - Copper ores',\n",
    " 'Unused Domestic Extraction - Metal Ores - Gold ores',\n",
    " 'Unused Domestic Extraction - Metal Ores - Iron ores',\n",
    " 'Unused Domestic Extraction - Metal Ores - Lead ores',\n",
    " 'Unused Domestic Extraction - Metal Ores - Nickel ores',\n",
    " 'Unused Domestic Extraction - Metal Ores - Other non-ferrous metal ores',\n",
    " 'Unused Domestic Extraction - Metal Ores - PGM ores',\n",
    " 'Unused Domestic Extraction - Metal Ores - Silver ores',\n",
    " 'Unused Domestic Extraction - Metal Ores - Tin ores',\n",
    " 'Unused Domestic Extraction - Metal Ores - Uranium and thorium ores',\n",
    " 'Unused Domestic Extraction - Metal Ores - Zinc ores']"
   ]
  },
  {
   "cell_type": "code",
   "execution_count": 34,
   "metadata": {},
   "outputs": [
    {
     "name": "stderr",
     "output_type": "stream",
     "text": [
      "<ipython-input-34-c81756011451>:1: UserWarning: Pandas requires version '1.4.3' or newer of 'xlsxwriter' (version '1.2.9' currently installed).\n",
      "  with pd.ExcelWriter('D:/EXIOBASE/Domestic Domestic Extraction - Metal Ores.xlsx') as writer:\n"
     ]
    }
   ],
   "source": [
    "with pd.ExcelWriter('D:/EXIOBASE/Domestic Domestic Extraction - Metal Ores.xlsx') as writer:\n",
    "    for i in item:\n",
    "        x = exio3.satellite.D_cba.loc[i]\n",
    "        x.to_excel(writer, sheet_name=str(i))  "
   ]
  },
  {
   "cell_type": "code",
   "execution_count": 33,
   "metadata": {},
   "outputs": [
    {
     "name": "stderr",
     "output_type": "stream",
     "text": [
      "<ipython-input-33-48bc8d92f91f>:1: UserWarning: Pandas requires version '1.4.3' or newer of 'xlsxwriter' (version '1.2.9' currently installed).\n",
      "  with pd.ExcelWriter('D:/EXIOBASE/Unused Domestic Extraction - Metal Ores.xlsx') as writer:\n"
     ]
    }
   ],
   "source": [
    "with pd.ExcelWriter('D:/EXIOBASE/Unused Domestic Extraction - Metal Ores.xlsx') as writer:\n",
    "    for i in item_unused:\n",
    "        x = exio3.satellite.D_cba.loc[i]\n",
    "        x.to_excel(writer, sheet_name=str(i))  "
   ]
  },
  {
   "cell_type": "code",
   "execution_count": 35,
   "metadata": {},
   "outputs": [
    {
     "name": "stderr",
     "output_type": "stream",
     "text": [
      "<ipython-input-35-85ab2b847963>:1: UserWarning: Pandas requires version '1.4.3' or newer of 'xlsxwriter' (version '1.2.9' currently installed).\n",
      "  with pd.ExcelWriter('D:/EXIOBASE/Domestic Domestic Extraction - Metal Ores - pba.xlsx') as writer:\n"
     ]
    }
   ],
   "source": [
    "with pd.ExcelWriter('D:/EXIOBASE/Domestic Domestic Extraction - Metal Ores - pba.xlsx') as writer:\n",
    "    for i in item:\n",
    "        x = exio3.satellite.D_pba.loc[i]\n",
    "        x.to_excel(writer, sheet_name=str(i))  "
   ]
  },
  {
   "cell_type": "code",
   "execution_count": 36,
   "metadata": {},
   "outputs": [
    {
     "name": "stderr",
     "output_type": "stream",
     "text": [
      "<ipython-input-36-fca0fe572a9b>:1: UserWarning: Pandas requires version '1.4.3' or newer of 'xlsxwriter' (version '1.2.9' currently installed).\n",
      "  with pd.ExcelWriter('D:/EXIOBASE/Unused Domestic Extraction - Metal Ores - pba.xlsx') as writer:\n"
     ]
    }
   ],
   "source": [
    "with pd.ExcelWriter('D:/EXIOBASE/Unused Domestic Extraction - Metal Ores - pba.xlsx') as writer:\n",
    "    for i in item_unused:\n",
    "        x = exio3.satellite.D_cba.loc[i]\n",
    "        x.to_excel(writer, sheet_name=str(i))  "
   ]
  }
 ],
 "metadata": {
  "kernelspec": {
   "display_name": "Python 3",
   "language": "python",
   "name": "python3"
  },
  "language_info": {
   "codemirror_mode": {
    "name": "ipython",
    "version": 3
   },
   "file_extension": ".py",
   "mimetype": "text/x-python",
   "name": "python",
   "nbconvert_exporter": "python",
   "pygments_lexer": "ipython3",
   "version": "3.8.3"
  }
 },
 "nbformat": 4,
 "nbformat_minor": 4
}
